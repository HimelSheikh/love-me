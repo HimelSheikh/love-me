{
 "cells": [
  {
   "cell_type": "code",
   "execution_count": 1,
   "id": "ea939606-9aa9-4c4f-b32f-82b8924768d3",
   "metadata": {},
   "outputs": [
    {
     "name": "stdout",
     "output_type": "stream",
     "text": [
      "Initial guess: -1.0\n",
      "Root found: -0.564327\n",
      "Iterations: 5\n",
      "\n",
      "Initial guess: 1.0\n",
      "Root found: 1.207828\n",
      "Iterations: 5\n",
      "\n"
     ]
    }
   ],
   "source": [
    "#CT 1\n",
    "#Question 1\n",
    "import numpy as np\n",
    "import math\n",
    "\n",
    "def newtonRaphson(f, df, x0, tol=1.0e-9, max_iter=100):\n",
    "    for i in range(max_iter):\n",
    "        fx = f(x0)\n",
    "        dfx = df(x0)\n",
    "        if abs(dfx) < 1e-12:  # Avoid division by zero\n",
    "            raise ZeroDivisionError(\"Derivative too small.\")\n",
    "        x1 = x0 - fx / dfx\n",
    "        if abs(x1 - x0) < tol:\n",
    "            return x1, i + 1\n",
    "        x0 = x1\n",
    "    raise RuntimeError(\"Too many iterations\")\n",
    "\n",
    "# Define the function and its derivative\n",
    "def f(x):\n",
    "    return math.sin(x) + 3 * math.cos(x) - 2\n",
    "\n",
    "def df(x):\n",
    "    return math.cos(x) - 3 * math.sin(x)\n",
    "\n",
    "# Initial guesses (chosen to find two roots in (-2, 2))\n",
    "x0_list = [-1.0, 1.0]\n",
    "roots = []\n",
    "\n",
    "for x0 in x0_list:\n",
    "    root, iterations = newtonRaphson(f, df, x0)\n",
    "    roots.append(root)\n",
    "    print(f\"Initial guess: {x0}\")\n",
    "    print(f\"Root found: {root:.6f}\")\n",
    "    print(f\"Iterations: {iterations}\\n\")"
   ]
  },
  {
   "cell_type": "code",
   "execution_count": 2,
   "id": "adaeda53-f43a-42b9-b76b-91ed5d239891",
   "metadata": {},
   "outputs": [
    {
     "name": "stdout",
     "output_type": "stream",
     "text": [
      "Estimated population in 1895 = 54.85 thousand\n",
      "Estimated population in 1925 = 96.84 thousand\n",
      "Estimated increase in population (1895–1925) = 41.98 thousand\n"
     ]
    }
   ],
   "source": [
    "#question 2\n",
    "# Newton-Gregory Forward Interpolation Formula\n",
    "import math\n",
    "\n",
    "# Given data\n",
    "years = [1891, 1901, 1911, 1921, 1931]\n",
    "populations = [46, 66, 81, 93, 101]\n",
    "\n",
    "# Step size (h)\n",
    "h = years[1] - years[0]\n",
    "\n",
    "# Function to build forward difference table\n",
    "def forward_diff_table(y_values):\n",
    "    n = len(y_values)\n",
    "    diff_table = [y_values[:]]\n",
    "    for i in range(1, n):\n",
    "        column = []\n",
    "        for j in range(n - i):\n",
    "            delta = diff_table[i - 1][j + 1] - diff_table[i - 1][j]\n",
    "            column.append(delta)\n",
    "        diff_table.append(column)\n",
    "    return diff_table\n",
    "\n",
    "# Newton’s Forward Interpolation Function\n",
    "def newtons_forward(x, x0, h, diff_table):\n",
    "    t = (x - x0) / h\n",
    "    result = diff_table[0][0]\n",
    "    u_term = 1\n",
    "    for i in range(1, len(diff_table)):\n",
    "        u_term *= (t - i + 1)\n",
    "        term = (u_term * diff_table[i][0]) / math.factorial(i)\n",
    "        result += term\n",
    "    return result\n",
    "\n",
    "# Build difference table\n",
    "diff_table = forward_diff_table(populations)\n",
    "\n",
    "# Estimate population for 1895 and 1925\n",
    "x1 = 1895\n",
    "x2 = 1925\n",
    "pop_1895 = newtons_forward(x1, years[0], h, diff_table)\n",
    "pop_1925 = newtons_forward(x2, years[0], h, diff_table)\n",
    "\n",
    "# Population increase\n",
    "increase = pop_1925 - pop_1895\n",
    "\n",
    "# Results\n",
    "print(f\"Estimated population in {x1} = {pop_1895:.2f} thousand\")\n",
    "print(f\"Estimated population in {x2} = {pop_1925:.2f} thousand\")\n",
    "print(f\"Estimated increase in population (1895–1925) = {increase:.2f} thousand\")"
   ]
  },
  {
   "cell_type": "code",
   "execution_count": 4,
   "id": "b22878f2-2c8e-4976-b7c6-ecb588642d3d",
   "metadata": {},
   "outputs": [
    {
     "name": "stdout",
     "output_type": "stream",
     "text": [
      "Estimated value of t when A = 85 is approximately 6.4704\n"
     ]
    }
   ],
   "source": [
    "#Question 3\n",
    "# Lagrange’s Inverse Interpolation Formula\n",
    "x = [94.8, 87.9, 81.3, 68.7]  # A values\n",
    "y = [2, 5, 8, 4]              # Corresponding t values\n",
    "xv = 85                       # Given A = 85, find t\n",
    "\n",
    "def lagrange_interpolation(x, y, xv):\n",
    "    n = len(x)\n",
    "    result = 0.0\n",
    "    for i in range(n):\n",
    "        term = y[i]\n",
    "        for j in range(n):\n",
    "            if i != j:\n",
    "                term *= (xv - x[j]) / (x[i] - x[j])\n",
    "        result += term\n",
    "    return result\n",
    "\n",
    "estimated_t = lagrange_interpolation(x, y, xv)\n",
    "print(f\"Estimated value of t when A = {xv} is approximately {estimated_t:.4f}\")"
   ]
  },
  {
   "cell_type": "code",
   "execution_count": 5,
   "id": "2ddf972f-ad04-431a-82a3-f15a31dcd988",
   "metadata": {},
   "outputs": [
    {
     "name": "stdout",
     "output_type": "stream",
     "text": [
      "Approximate cos(1.72): -0.14843750000000042\n",
      "Approximate cos(1.84): -0.266562\n"
     ]
    }
   ],
   "source": [
    "#CT 2\n",
    "#Question 1\n",
    "import numpy as np\n",
    "import math\n",
    "x_values = [1.70, 1.74, 1.78, 1.82, 1.86]\n",
    "y_values = [0.9916, 0.9857, 0.9781, 0.9691, 0.9584]\n",
    "h = x_values[1] - x_values[0]  \n",
    "\n",
    "diff = [\n",
    "    [y_values[0], \n",
    "     y_values[1] - y_values[0], \n",
    "     y_values[2] - 2 * y_values[1] + y_values[0],\n",
    "     y_values[3] - 3 * y_values[2] + 3 * y_values[1] - y_values[0],\n",
    "     y_values[4] - 4 * y_values[3] + 6 * y_values[2] - 4 * y_values[1] + y_values[0]]\n",
    "]\n",
    "t = (1.72 - 1.70) / h\n",
    "def derivative_newton_forward(t, h, diff):\n",
    "    result = diff[0][1]\n",
    "\n",
    "    if len(diff[0]) >= 3:\n",
    "        result += ((2 * t - 1) / 2) * diff[0][2]\n",
    "    if len(diff[0]) >= 4:\n",
    "        result += ((3 * t**2 - 6 * t + 2) / 6) * diff[0][3]\n",
    "    if len(diff[0]) >= 5:\n",
    "        result += ((4 * t**3 - 18 * t**2 + 22 * t - 6) / 24) * diff[0][4]\n",
    "\n",
    "    return result / h\n",
    "approx_cos_1_72 = derivative_newton_forward(t, h, diff)\n",
    "print(f\"Approximate cos(1.72): {approx_cos_1_72}\")\n",
    "\n",
    "import numpy as np\n",
    "\n",
    "x_values = [1.70, 1.74, 1.78, 1.82, 1.86]\n",
    "y_values = [0.9916, 0.9857, 0.9781, 0.9691, 0.9584]\n",
    "\n",
    "h = x_values[1] - x_values[0]  \n",
    "diff = [[\n",
    "    y_values[-1],\n",
    "    y_values[-1] - y_values[-2],\n",
    "    y_values[-1] - 2*y_values[-2] + y_values[-3],\n",
    "    y_values[-1] - 3*y_values[-2] + 3*y_values[-3] - y_values[-4],\n",
    "    y_values[-1] - 4*y_values[-2] + 6*y_values[-3] - 4*y_values[-4] + y_values[-5]\n",
    "]]\n",
    "\n",
    "t = (1.84 - x_values[-1]) / h\n",
    "\n",
    "def derivative_newton_backward(t, h, diff):\n",
    "    result = diff[0][1]  \n",
    "\n",
    "    if len(diff[0]) >= 3:\n",
    "        result += ((2 * t + 1) / 2) * diff[0][2]\n",
    "    if len(diff[0]) >= 4:\n",
    "        result += ((3 * t**2 + 6 * t + 2) / 6) * diff[0][3]\n",
    "    if len(diff[0]) >= 5:\n",
    "        result += ((4 * t**3 + 18 * t**2 + 22 * t + 6) / 24) * diff[0][4]\n",
    "\n",
    "    return result / h\n",
    "\n",
    "approx_cos_1_84 = derivative_newton_backward(t, h, diff)\n",
    "print(f\"Approximate cos(1.84): {approx_cos_1_84:.6f}\")\n"
   ]
  },
  {
   "cell_type": "code",
   "execution_count": 6,
   "id": "3ab4a208-c790-4a58-b763-4c4c728d6be4",
   "metadata": {},
   "outputs": [
    {
     "name": "stdout",
     "output_type": "stream",
     "text": [
      "length: 1001\n",
      "x values: [0.    0.001 0.002 ... 0.998 0.999 1.   ]\n",
      "f(x) values: [1.         0.999999   0.999996   ... 0.501001   0.50050025 0.5       ]\n",
      "Trapezoidal value: 0.785398121730781\n",
      "Simpson's one-third value: 0.785398163397449\n",
      "Simpson's three-eighth value: 0.7852731009078647\n"
     ]
    },
    {
     "data": {
      "image/png": "[encoded data removed]",
      "text/plain": [
       "<Figure size 800x500 with 1 Axes>"
      ]
     },
     "metadata": {},
     "output_type": "display_data"
    }
   ],
   "source": [
    "#Question 2\n",
    "import numpy as np\n",
    "def f(x):\n",
    "    return 1/(1+(x**2))\n",
    "a = 0\n",
    "b = 1\n",
    "h = 0.001\n",
    "x = np.arange(a, b + h, h)\n",
    "y = f(x)\n",
    "n=len(x)\n",
    "print(\"length:\", n)\n",
    "print(\"x values:\", x)\n",
    "print(\"f(x) values:\", y)\n",
    "t1=0\n",
    "for i in range (1,n-1, 1):\n",
    "    t1 += y[i]\n",
    "trap=(h/2)*(y[0]+2*t1+y[n-1])\n",
    "print(\"Trapezoidal value:\", trap)\n",
    "\n",
    "s1=0\n",
    "s2=0\n",
    "for i in range (1,n-1, 2):\n",
    "    s1 += y[i]\n",
    "for i in range (2,n-2, 2):\n",
    "    s2 += y[i]\n",
    "sim1=(h/3)*(y[0]+4*s1+2*s2+y[n-1])\n",
    "print(\"Simpson's one-third value:\", sim1)\n",
    "\n",
    "s3 = 0\n",
    "s4 = 0\n",
    "for i in range(1, n - 1):\n",
    "    if i % 3 == 0:\n",
    "        s4 += y[i]\n",
    "    else:\n",
    "        s3 += y[i]\n",
    "sim3 = (3 * h / 8) * (y[0] + 3 * s3 + 2 * s4 + y[n - 1])\n",
    "print(\"Simpson's three-eighth value:\", sim3)\n",
    "\n",
    "import matplotlib.pyplot as plt\n",
    "plt.figure(figsize=(8, 5))\n",
    "plt.plot(x, y, 'bo-', label='f(x)')\n",
    "plt.fill_between(x, y, alpha=0.3, color='skyblue')\n",
    "plt.title('Area of the function')\n",
    "plt.xlabel('Value of x')\n",
    "plt.ylabel('Value of f(x)')\n",
    "plt.legend()\n",
    "plt.show()\n"
   ]
  },
  {
   "cell_type": "code",
   "execution_count": 7,
   "id": "60d2b522-46b0-4138-bde3-dad565c61d7a",
   "metadata": {},
   "outputs": [
    {
     "name": "stdout",
     "output_type": "stream",
     "text": [
      "x\t\ty\n",
      "0.0\t0.000000\n",
      "0.1\t0.000333\n",
      "0.2\t0.002667\n",
      "0.3\t0.009003\n",
      "0.4\t0.021359\n"
     ]
    }
   ],
   "source": [
    "#Question 3\n",
    "import math as m\n",
    "\n",
    "# Define the differential equation dy/dx = x^2 + y^2\n",
    "def f(x, y):\n",
    "    return x**2 + y**2\n",
    "\n",
    "# Initial conditions\n",
    "x0 = 0\n",
    "y0 = 0\n",
    "h = 0.1\n",
    "\n",
    "# RK4 method\n",
    "def rk4_step(x, y, h):\n",
    "    k1 = h * f(x, y)\n",
    "    k2 = h * f(x + h/2, y + k1/2)\n",
    "    k3 = h * f(x + h/2, y + k2/2)\n",
    "    k4 = h * f(x + h, y + k3)\n",
    "    y_next = y + (1/6) * (k1 + 2*k2 + 2*k3 + k4)\n",
    "    return y_next\n",
    "\n",
    "# Solve over [0, 0.4]\n",
    "print(\"x\\t\\ty\")\n",
    "print(f\"{x0:.1f}\\t{y0:.6f}\")\n",
    "\n",
    "for i in range(4):  # 4 steps from 0 to 0.4\n",
    "    y0 = rk4_step(x0, y0, h)\n",
    "    x0 += h\n",
    "    print(f\"{x0:.1f}\\t{y0:.6f}\")"
   ]
  },
  {
   "cell_type": "code",
   "execution_count": null,
   "id": "76c1e204-e257-43fd-899f-70d377dfeda0",
   "metadata": {},
   "outputs": [],
   "source": []
  }
 ],
 "metadata": {
  "kernelspec": {
   "display_name": "anaconda-2024.02-py310",
   "language": "python",
   "name": "conda-env-anaconda-2024.02-py310-py"
  },
  "language_info": {
   "codemirror_mode": {
    "name": "ipython",
    "version": 3
   },
   "file_extension": ".py",
   "mimetype": "text/x-python",
   "name": "python",
   "nbconvert_exporter": "python",
   "pygments_lexer": "ipython3",
   "version": "3.10.14"
  }
 },
 "nbformat": 4,
 "nbformat_minor": 5
}
