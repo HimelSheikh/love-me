{
 "cells": [
  {
   "cell_type": "code",
   "execution_count": 1,
   "id": "ab88b089",
   "metadata": {},
   "outputs": [
    {
     "name": "stdout",
     "output_type": "stream",
     "text": [
      "Approximate value of y(0.1) using Taylor Series: 1.110\n"
     ]
    }
   ],
   "source": [
    "# Given initial values\n",
    "x = 0\n",
    "y = 1\n",
    "h = 0.1\n",
    "\n",
    "# First derivative\n",
    "def dy_dx(x, y):\n",
    "    return x + y\n",
    "\n",
    "# Second derivative\n",
    "def d2y_dx2(x, y):\n",
    "    return x + y + 1  \n",
    "\n",
    "# Apply Taylor Series\n",
    "y_next = y + h * dy_dx(x, y) + (h**2 / 2) * d2y_dx2(x, y)\n",
    "\n",
    "print(f\"Approximate value of y(0.1) using Taylor Series: {y_next:.3f}\")"
   ]
  },
  {
   "cell_type": "code",
   "execution_count": 2,
   "id": "dbbad6cb",
   "metadata": {},
   "outputs": [
    {
     "name": "stdout",
     "output_type": "stream",
     "text": [
      "Approximate value of y(0.4) using Taylor Series: 0.021\n"
     ]
    }
   ],
   "source": [
    "# Given initial values\n",
    "x = 0\n",
    "y = 0\n",
    "h = 0.4\n",
    "\n",
    "# First derivative\n",
    "def dy_dx(x, y):\n",
    "    return x**2 + y**2\n",
    "\n",
    "# Second derivative\n",
    "def d2y_dx2(x, y):\n",
    "    return 2*x + (2*y*(x**2 + y**2))\n",
    "\n",
    "# Third derivative\n",
    "def d3y_dx3(x, y):\n",
    "    return 2 + 4*x*y + (6*y*(x**2 + y**2))\n",
    "\n",
    "# Apply Taylor Series\n",
    "y_next = y + h * dy_dx(x, y) + (h**2 / 2) * d2y_dx2(x, y) +(h**3/6) * d3y_dx3(x, y)\n",
    "\n",
    "print(f\"Approximate value of y(0.4) using Taylor Series: {y_next:.3f}\")"
   ]
  },
  {
   "cell_type": "code",
   "execution_count": 3,
   "id": "7b1cafd7",
   "metadata": {},
   "outputs": [
    {
     "name": "stdout",
     "output_type": "stream",
     "text": [
      "Approximate value of y(2) using Euler's Method: 1.100\n"
     ]
    }
   ],
   "source": [
    "# Euler's Method\n",
    "# Given initial values\n",
    "x = 0\n",
    "y = 1\n",
    "h = 0.1\n",
    "\n",
    "# First derivative\n",
    "def dy_dx(x, y):\n",
    "    return x + y\n",
    "x1=0.1\n",
    "y1 = y + h * dy_dx(x, y)\n",
    "\n",
    "def dy1_dx(x1, y1):\n",
    "    return x1 + y1\n",
    "\n",
    "y2 = y1 + h * dy1_dx(x1, y1)\n",
    "print(f\"Approximate value of y(2) using Euler's Method: {y1:.3f}\")"
   ]
  },
  {
   "cell_type": "code",
   "execution_count": 4,
   "id": "6888d2d4",
   "metadata": {},
   "outputs": [
    {
     "name": "stdout",
     "output_type": "stream",
     "text": [
      "Approximate value of y(2) using Taylor Series: 1.220\n"
     ]
    }
   ],
   "source": [
    "# Initial values\n",
    "x = 0\n",
    "y = 1\n",
    "h = 0.1\n",
    "n_steps = 2  \n",
    "\n",
    "# Store results\n",
    "x_vals = [x]\n",
    "y_vals = [y]\n",
    "\n",
    "# Define first derivative\n",
    "def dy_dx(x, y):\n",
    "    return x + y\n",
    "\n",
    "# Loop to calculate y values\n",
    "for i in range(n_steps):\n",
    "    y_new = y + h * dy_dx(x, y)\n",
    "    x += h\n",
    "    y = y_new\n",
    "    x_vals.append(x)\n",
    "    y_vals.append(y)\n",
    "\n",
    "print(f\"Approximate value of y(2) using Taylor Series: {y_vals[-1]:.3f}\")"
   ]
  },
  {
   "cell_type": "code",
   "execution_count": 7,
   "id": "25bf3c15",
   "metadata": {},
   "outputs": [
    {
     "data": {
      "text/plain": [
       "7"
      ]
     },
     "execution_count": 7,
     "metadata": {},
     "output_type": "execute_result"
    }
   ],
   "source": [
    "import numpy as np\n",
    "a=0\n",
    "b=0.12\n",
    "x = np.arange(a, b+h, h)\n",
    "y = 1\n",
    "h = 0.02\n",
    "x\n",
    "n=len(x)\n",
    "n"
   ]
  },
  {
   "cell_type": "code",
   "execution_count": 5,
   "id": "874820e4",
   "metadata": {},
   "outputs": [
    {
     "name": "stdout",
     "output_type": "stream",
     "text": [
      "Approximate value of y(2) using Taylor Series: 1.149\n"
     ]
    }
   ],
   "source": [
    "x = 0\n",
    "y = 1\n",
    "h = 0.02\n",
    "n_steps = 7  # To reach x = 0.12\n",
    "\n",
    "# Store results\n",
    "x_vals = [x]\n",
    "y_vals = [y]\n",
    "\n",
    "# Define first derivative\n",
    "def dy_dx(x, y):\n",
    "    return x**3 + y\n",
    "\n",
    "# Loop to calculate y values\n",
    "for i in range(n_steps):\n",
    "    y_new = y + h * dy_dx(x, y)\n",
    "    x += h\n",
    "    y = y_new\n",
    "    x_vals.append(x)\n",
    "    y_vals.append(y)\n",
    "\n",
    "print(f\"Approximate value of y(2) using Taylor Series: {y_vals[-1]:.3f}\")"
   ]
  },
  {
   "cell_type": "code",
   "execution_count": 7,
   "id": "b739aed8",
   "metadata": {},
   "outputs": [
    {
     "name": "stdout",
     "output_type": "stream",
     "text": [
      "Approximate value of y(2) using Taylor Series: 2.244725\n"
     ]
    }
   ],
   "source": [
    "import math as m\n",
    "x = 0\n",
    "x1 = 0.15\n",
    "y = 2\n",
    "h = 0.15\n",
    "\n",
    "\n",
    "k1 = h*m.log(x+y)\n",
    "k2 = h*m.log(x+(0.15/2)+y+(k1/2))\n",
    "k3 = h*m.log(x+(0.15/2)+y+(k2/2))\n",
    "k4 = h*m.log(x1+y+k3)\n",
    "\n",
    "y1 = y + (1/6)*(k1 + 2*k2 + 2*k3 + k4)\n",
    "\n",
    "x2 = 0.15\n",
    "x3 = 0.30\n",
    "\n",
    "\n",
    "\n",
    "k5 = h*m.log(x2+y1)\n",
    "k6 = h*m.log(x2+(0.15/2)+y1+(k5/2))\n",
    "k7 = h*m.log(x2+(0.15/2)+y1+(k6/2))\n",
    "k8 = h*m.log(x3+y1+k7)\n",
    "\n",
    "y2 = y1 + (1/6)*(k5 + 2*k6 + 2*k7 + k8)\n",
    "print(f\"Approximate value of y(2) using Taylor Series: {y2:.6f}\")"
   ]
  },
  {
   "cell_type": "code",
   "execution_count": 6,
   "id": "38e7607b",
   "metadata": {},
   "outputs": [
    {
     "name": "stdout",
     "output_type": "stream",
     "text": [
      "Approximate value of y(1) using Runge Kutta Method: 2.244718\n"
     ]
    }
   ],
   "source": [
    "import math as m\n",
    "x = 0\n",
    "x1 = 0.3\n",
    "y = 2\n",
    "h = 0.3\n",
    "\n",
    "\n",
    "k1 = h*m.log(x+y)\n",
    "k2 = h*m.log((h/2)+y+(k1/2))\n",
    "k3 = h*m.log((h/2)+y+(k2/2))\n",
    "k4 = h*m.log(x1+y+k3)\n",
    "\n",
    "y1 = y + (1/6)*(k1 + 2*k2 + 2*k3 + k4)\n",
    "\n",
    "print(f\"Approximate value of y(1) using Runge Kutta Method: {y1:.6f}\")"
   ]
  },
  {
   "cell_type": "code",
   "execution_count": null,
   "id": "05315af8",
   "metadata": {},
   "outputs": [],
   "source": []
  }
 ],
 "metadata": {
  "kernelspec": {
   "display_name": "Python 3 (ipykernel)",
   "language": "python",
   "name": "python3"
  },
  "language_info": {
   "codemirror_mode": {
    "name": "ipython",
    "version": 3
   },
   "file_extension": ".py",
   "mimetype": "text/x-python",
   "name": "python",
   "nbconvert_exporter": "python",
   "pygments_lexer": "ipython3",
   "version": "3.11.3"
  }
 },
 "nbformat": 4,
 "nbformat_minor": 5
}
