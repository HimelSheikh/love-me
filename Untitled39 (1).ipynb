{
 "cells": [
  {
   "cell_type": "code",
   "execution_count": 34,
   "id": "3d637249",
   "metadata": {},
   "outputs": [
    {
     "name": "stdout",
     "output_type": "stream",
     "text": [
      "Approximate cos(1.72): -0.14843750000000042\n"
     ]
    }
   ],
   "source": [
    "import numpy as np\n",
    "import math\n",
    "x_values = [1.70, 1.74, 1.78, 1.82, 1.86]\n",
    "y_values = [0.9916, 0.9857, 0.9781, 0.9691, 0.9584]\n",
    "diff = [\n",
    "    [y_values[0], \n",
    "     y_values[1] - y_values[0], \n",
    "     y_values[2] - 2 * y_values[1] + y_values[0],\n",
    "     y_values[3] - 3 * y_values[2] + 3 * y_values[1] - y_values[0],\n",
    "     y_values[4] - 4 * y_values[3] + 6 * y_values[2] - 4 * y_values[1] + y_values[0]]\n",
    "]\n",
    "t = (1.72 - 1.70) / h\n",
    "def derivative_newton_forward(t, h, diff):\n",
    "    result = diff[0][1]\n",
    "\n",
    "    if len(diff[0]) >= 3:\n",
    "        result += ((2 * t - 1) / 2) * diff[0][2]\n",
    "    if len(diff[0]) >= 4:\n",
    "        result += ((3 * t**2 - 6 * t + 2) / 6) * diff[0][3]\n",
    "    if len(diff[0]) >= 5:\n",
    "        result += ((4 * t**3 - 18 * t**2 + 22 * t - 6) / 24) * diff[0][4]\n",
    "\n",
    "    return result / h\n",
    "approx_cos_1_72 = derivative_newton_forward(t, h, diff)\n",
    "print(f\"Approximate cos(1.72): {approx_cos_1_72}\")"
   ]
  },
  {
   "cell_type": "code",
   "execution_count": 35,
   "id": "1c121239",
   "metadata": {},
   "outputs": [
    {
     "name": "stdout",
     "output_type": "stream",
     "text": [
      "Approximate cos(1.84): -0.266562\n"
     ]
    }
   ],
   "source": [
    "import numpy as np\n",
    "\n",
    "x_values = [1.70, 1.74, 1.78, 1.82, 1.86]\n",
    "y_values = [0.9916, 0.9857, 0.9781, 0.9691, 0.9584]\n",
    "\n",
    "h = x_values[1] - x_values[0]  \n",
    "diff = [[\n",
    "    y_values[-1],\n",
    "    y_values[-1] - y_values[-2],\n",
    "    y_values[-1] - 2*y_values[-2] + y_values[-3],\n",
    "    y_values[-1] - 3*y_values[-2] + 3*y_values[-3] - y_values[-4],\n",
    "    y_values[-1] - 4*y_values[-2] + 6*y_values[-3] - 4*y_values[-4] + y_values[-5]\n",
    "]]\n",
    "\n",
    "t = (1.84 - x_values[-1]) / h\n",
    "\n",
    "def derivative_newton_backward(t, h, diff):\n",
    "    result = diff[0][1]  \n",
    "\n",
    "    if len(diff[0]) >= 3:\n",
    "        result += ((2 * t + 1) / 2) * diff[0][2]\n",
    "    if len(diff[0]) >= 4:\n",
    "        result += ((3 * t**2 + 6 * t + 2) / 6) * diff[0][3]\n",
    "    if len(diff[0]) >= 5:\n",
    "        result += ((4 * t**3 + 18 * t**2 + 22 * t + 6) / 24) * diff[0][4]\n",
    "\n",
    "    return result / h\n",
    "\n",
    "approx_cos_1_84 = derivative_newton_backward(t, h, diff)\n",
    "print(f\"Approximate cos(1.84): {approx_cos_1_84:.6f}\")"
   ]
  },
  {
   "cell_type": "code",
   "execution_count": 36,
   "id": "0d7c1f93",
   "metadata": {},
   "outputs": [
    {
     "name": "stdout",
     "output_type": "stream",
     "text": [
      "Approximate derivative at x = 0.47 using Stirling's formula: -0.418200\n"
     ]
    }
   ],
   "source": [
    "import numpy as np\n",
    "\n",
    "x_values = [0.35, 0.40, 0.45, 0.50, 0.55, 0.60, 0.65]\n",
    "y_values = [1.521, 1.506, 1.488, 1.467, 1.444, 1.418, 1.389]\n",
    "\n",
    "h = x_values[1] - x_values[0]  # uniform interval = 0.05\n",
    "n = len(x_values)\n",
    "\n",
    "# Build the difference table\n",
    "diff_table = np.zeros((n, n))\n",
    "diff_table[:, 0] = y_values\n",
    "\n",
    "for j in range(1, n):\n",
    "    for i in range(n - j):\n",
    "        diff_table[i][j] = diff_table[i+1][j-1] - diff_table[i][j-1]\n",
    "\n",
    "# Find central value index near 0.47\n",
    "mid_index = 2  # x = 0.45 (3rd value) is closest to 0.47\n",
    "x0 = x_values[mid_index]\n",
    "\n",
    "p = (0.47 - x0) / h\n",
    "\n",
    "# Apply Stirling’s formula for the first derivative:\n",
    "dy_dx = (1 / h) * (\n",
    "    (diff_table[mid_index][1] + diff_table[mid_index - 1][1]) / 2\n",
    "    + p * (diff_table[mid_index - 1][2] / 2 + diff_table[mid_index - 1][2] / 2)  # approximate central second difference\n",
    "    + (p**2 - 1) * (diff_table[mid_index - 1][3] + diff_table[mid_index - 2][3]) / 4\n",
    ")\n",
    "\n",
    "print(f\"Approximate derivative at x = 0.47 using Stirling's formula: {dy_dx:.6f}\")"
   ]
  },
  {
   "cell_type": "code",
   "execution_count": 44,
   "id": "972d9264",
   "metadata": {},
   "outputs": [
    {
     "name": "stdout",
     "output_type": "stream",
     "text": [
      "Approximate derivative at x = 0.04 using Bessel's formula: 0.255042\n"
     ]
    }
   ],
   "source": [
    "import numpy as np\n",
    "\n",
    "x_values = [0.01, 0.02, 0.03, 0.04, 0.05, 0.06]\n",
    "y_values = [0.1023, 0.1047, 0.1071, 0.1096, 0.1122, 0.1148]\n",
    "\n",
    "h = x_values[1] - x_values[0]  # Assuming equal spacing\n",
    "\n",
    "n = len(x_values)\n",
    "\n",
    "# Build forward difference table\n",
    "diff_table = np.zeros((n, n))\n",
    "diff_table[:, 0] = y_values\n",
    "\n",
    "for j in range(1, n):\n",
    "    for i in range(n - j):\n",
    "        diff_table[i][j] = diff_table[i + 1][j - 1] - diff_table[i][j-1]\n",
    "\n",
    "mid_index = 2  # y at x=0.03\n",
    "p = (0.04 - x_values[mid_index]) / h\n",
    "\n",
    "# Bessel’s first derivative formula components:\n",
    "dy_dx = (1 / h) * (\n",
    "    diff_table[mid_index][1] + diff_table[mid_index + 1][1]\n",
    ") / 2\n",
    "\n",
    "dy_dx += (p - 0.5) * diff_table[mid_index][2]\n",
    "dy_dx += ((3 * p**2 - 1) / 12) * (diff_table[mid_index][3] + diff_table[mid_index + 1][3]) / 2\n",
    "\n",
    "print(f\"Approximate derivative at x = 0.04 using Bessel's formula: {dy_dx:.6f}\")"
   ]
  },
  {
   "cell_type": "code",
   "execution_count": null,
   "id": "3eb583e8",
   "metadata": {},
   "outputs": [],
   "source": []
  }
 ],
 "metadata": {
  "kernelspec": {
   "display_name": "Python 3 (ipykernel)",
   "language": "python",
   "name": "python3"
  },
  "language_info": {
   "codemirror_mode": {
    "name": "ipython",
    "version": 3
   },
   "file_extension": ".py",
   "mimetype": "text/x-python",
   "name": "python",
   "nbconvert_exporter": "python",
   "pygments_lexer": "ipython3",
   "version": "3.11.3"
  }
 },
 "nbformat": 4,
 "nbformat_minor": 5
}
